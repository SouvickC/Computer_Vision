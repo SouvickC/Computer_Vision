{
 "cells": [
  {
   "cell_type": "code",
   "execution_count": null,
   "id": "fedcf0ad",
   "metadata": {},
   "outputs": [],
   "source": [
    "import torch"
   ]
  },
  {
   "cell_type": "code",
   "execution_count": 11,
   "id": "4c0f57a4",
   "metadata": {},
   "outputs": [
    {
     "name": "stdout",
     "output_type": "stream",
     "text": [
      "tensor([0.0940, 0.6160, 0.4351, 0.2634, 0.3913])\n",
      "1\n"
     ]
    }
   ],
   "source": [
    "random_tensor = torch.rand(5)\n",
    "print(random_tensor)\n",
    "print(random_tensor.ndim)"
   ]
  },
  {
   "cell_type": "code",
   "execution_count": 21,
   "id": "97ddadcc",
   "metadata": {},
   "outputs": [
    {
     "name": "stdout",
     "output_type": "stream",
     "text": [
      "tensor([[[0.2660, 0.6805, 0.7001],\n",
      "         [0.5361, 0.9686, 0.4374],\n",
      "         [0.4041, 0.7156, 0.5867],\n",
      "         [0.6035, 0.8783, 0.0709],\n",
      "         [0.9092, 0.8253, 0.5595]],\n",
      "\n",
      "        [[0.3549, 0.1518, 0.7811],\n",
      "         [0.6699, 0.1343, 0.9328],\n",
      "         [0.1207, 0.9876, 0.7978],\n",
      "         [0.4795, 0.9464, 0.6356],\n",
      "         [0.4103, 0.7993, 0.0794]]])\n",
      "3\n"
     ]
    }
   ],
   "source": [
    "random_tensor1 = torch.rand(2,5,3) ## 2 of 5x3 matrix\n",
    "print(random_tensor1)\n",
    "print(random_tensor1.ndim)"
   ]
  },
  {
   "cell_type": "code",
   "execution_count": 69,
   "id": "7d0ebba9",
   "metadata": {},
   "outputs": [
    {
     "name": "stdout",
     "output_type": "stream",
     "text": [
      "tensor([[[0.8303, 0.1261, 0.9075],\n",
      "         [0.8199, 0.9201, 0.1166],\n",
      "         [0.1644, 0.7379, 0.0333],\n",
      "         [0.9942, 0.6064, 0.5646],\n",
      "         [0.0724, 0.6593, 0.7150]],\n",
      "\n",
      "        [[0.5793, 0.9809, 0.6502],\n",
      "         [0.0566, 0.9201, 0.6698],\n",
      "         [0.2615, 0.0407, 0.7850],\n",
      "         [0.9752, 0.0903, 0.5273],\n",
      "         [0.6794, 0.2639, 0.3906]]])\n",
      "3\n",
      "torch.Size([2, 5, 3])\n"
     ]
    }
   ],
   "source": [
    "torch.manual_seed(5) ##  reproducibility keep it same\n",
    "random_tensor1 = torch.rand(2,5,3) ## 2 of 5x3 matrix\n",
    "print(random_tensor1)\n",
    "print(random_tensor1.ndim)\n",
    "print(random_tensor1.shape)"
   ]
  },
  {
   "cell_type": "code",
   "execution_count": null,
   "id": "c4e1209e",
   "metadata": {},
   "outputs": [
    {
     "name": "stdout",
     "output_type": "stream",
     "text": [
      "tensor([[[12,  6],\n",
      "         [ 4,  4]],\n",
      "\n",
      "        [[14, 13],\n",
      "         [12,  9]],\n",
      "\n",
      "        [[ 4, 12],\n",
      "         [11, 11]],\n",
      "\n",
      "        [[11,  6],\n",
      "         [13,  4]],\n",
      "\n",
      "        [[ 8,  6],\n",
      "         [ 4, 11]]])\n"
     ]
    }
   ],
   "source": [
    "## Generate Random Integer\n",
    "'''\n",
    "torch.randint(low, high, size)\n",
    "'''\n",
    "\n",
    "rand_int=torch.randint(4,15,(5,2,2)) ## there are 5 2x2 matrix\n",
    "print(rand_int)"
   ]
  },
  {
   "cell_type": "code",
   "execution_count": null,
   "id": "b5eb524b",
   "metadata": {},
   "outputs": [],
   "source": []
  }
 ],
 "metadata": {
  "kernelspec": {
   "display_name": "CV-env",
   "language": "python",
   "name": "python3"
  },
  "language_info": {
   "codemirror_mode": {
    "name": "ipython",
    "version": 3
   },
   "file_extension": ".py",
   "mimetype": "text/x-python",
   "name": "python",
   "nbconvert_exporter": "python",
   "pygments_lexer": "ipython3",
   "version": "3.10.16"
  }
 },
 "nbformat": 4,
 "nbformat_minor": 5
}
