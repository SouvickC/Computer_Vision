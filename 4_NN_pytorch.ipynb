{
 "cells": [
  {
   "cell_type": "code",
   "execution_count": 36,
   "id": "fa3a2d0f",
   "metadata": {},
   "outputs": [],
   "source": [
    "'''\n",
    "Breakdown of simple NN\n",
    "x---. input\n",
    "W----> weights\n",
    "B---> bias\n",
    "A----> activation function\n",
    "Y----> output \n",
    "\n",
    "## forward pass\n",
    "## Loss function\n",
    "## update the gradients ----> backpropagation\n",
    "##  Optimizer\n",
    "\n",
    "'''\n",
    "\n",
    "import torch\n",
    "import torch.nn as nn\n",
    "import torch.optim as optim"
   ]
  },
  {
   "cell_type": "markdown",
   "id": "6c1ca09b",
   "metadata": {},
   "source": [
    "### Componenents for pytorch\n",
    "- base class for defining custom model : torch.nn.Module\n",
    "- FCN Dense : torch.nn.Linear\n",
    "- activation function : torch.nn.ReLU\n",
    "- optimizer : torch.optim\n",
    "- loss function : torch.nn.CrossEntropyLoss\n",
    "- Load data in batches : torch.utils.data.Dataloader\n",
    "\n",
    "### Diff ways to create NN\n",
    "- function : flexible way to do , little harder to interpret\n",
    "- sequential : nn.Sequential\n",
    "\n",
    "### Building a NN"
   ]
  },
  {
   "cell_type": "code",
   "execution_count": 37,
   "id": "643bbbac",
   "metadata": {},
   "outputs": [],
   "source": [
    "## Functional API\n",
    "\n",
    "class SimpleNN(nn.Module): \n",
    "    def __init__(self, input_size, hidden_size, output_size):\n",
    "        super(SimpleNN,self).__init__()\n",
    "\n",
    "        self.fc1 =nn.Linear(input_size, hidden_size)\n",
    "\n",
    "        self.relu = nn.ReLU()\n",
    "\n",
    "        self.fc2 =nn.Linear(hidden_size, output_size)\n",
    "    \n",
    "    def forward(self, x): ## shape of x and input_size should be same\n",
    "        x = self.fc1(x)\n",
    "        x = self.relu(x)\n",
    "        x = self.fc2(x)\n",
    "        return x"
   ]
  },
  {
   "cell_type": "code",
   "execution_count": 38,
   "id": "cc036ff6",
   "metadata": {},
   "outputs": [],
   "source": [
    "# ###  Sequential API\n",
    "# ## can't be used for skip layer\n",
    "\n",
    "# class SimpleNNSequential(nn.Module): \n",
    "#     def __init__(self, input_size, hidden_size, output_size):\n",
    "#         super(SimpleNN,self).__init__()\n",
    "        \n",
    "#         self.network = nn.Sequential(\n",
    "#             nn.Linear(input_size, hidden_size),\n",
    "#             nn.ReLU(),\n",
    "#             nn.Linear(hidden_size, output_size)\n",
    "#         )\n",
    "        \n",
    "    \n",
    "#     def forward(self, x): ## shape of x and input_size should be same\n",
    "#         x = self.network(x)\n",
    "#         return x\n"
   ]
  },
  {
   "cell_type": "markdown",
   "id": "27ef3b68",
   "metadata": {},
   "source": [
    "### Training the neural Network"
   ]
  },
  {
   "cell_type": "code",
   "execution_count": 39,
   "id": "a9860abc",
   "metadata": {},
   "outputs": [
    {
     "name": "stdout",
     "output_type": "stream",
     "text": [
      "SimpleNN(\n",
      "  (fc1): Linear(in_features=4, out_features=10, bias=True)\n",
      "  (relu): ReLU()\n",
      "  (fc2): Linear(in_features=10, out_features=2, bias=True)\n",
      ")\n"
     ]
    }
   ],
   "source": [
    "model_function =SimpleNN(input_size=4, hidden_size=10, output_size=2)\n",
    "print(model_function)"
   ]
  },
  {
   "cell_type": "code",
   "execution_count": 50,
   "id": "50e6ef96",
   "metadata": {},
   "outputs": [],
   "source": [
    "## creating  data\n",
    "\n",
    "input_x = torch.rand(10, 4) ## 10 samples, 4 for each sample\n",
    "\n",
    "y = torch.randint(0,2, (10, ))\n"
   ]
  },
  {
   "cell_type": "code",
   "execution_count": 51,
   "id": "4d049fe3",
   "metadata": {},
   "outputs": [],
   "source": [
    "\n",
    "criterion = nn.CrossEntropyLoss() ## loss function\n",
    "\n",
    "optimizer = optim.Adam(model_function.parameters(), lr=0.01)"
   ]
  },
  {
   "cell_type": "code",
   "execution_count": 52,
   "id": "b8f57e59",
   "metadata": {},
   "outputs": [
    {
     "name": "stdout",
     "output_type": "stream",
     "text": [
      "tensor([[2.0440e-02, 3.9571e-01, 5.5608e-01, 9.9803e-02],\n",
      "        [4.1725e-01, 2.1495e-01, 5.5710e-01, 1.9063e-03],\n",
      "        [7.9868e-01, 9.3703e-01, 4.7596e-01, 5.2886e-01],\n",
      "        [7.1892e-01, 1.8703e-01, 3.1346e-02, 3.2740e-01],\n",
      "        [2.3739e-01, 1.6072e-01, 7.4964e-01, 7.2119e-01],\n",
      "        [6.8867e-04, 8.6036e-02, 8.6739e-01, 8.6219e-01],\n",
      "        [2.8266e-01, 6.1296e-01, 9.4151e-03, 6.1236e-01],\n",
      "        [6.0206e-01, 9.7228e-01, 4.7954e-02, 9.0447e-01],\n",
      "        [7.6660e-01, 9.0811e-01, 6.0662e-01, 2.1886e-01],\n",
      "        [1.6117e-01, 9.8774e-01, 8.1878e-01, 8.7908e-01]])\n",
      "tensor([1, 0, 1, 1, 1, 1, 1, 0, 0, 0])\n"
     ]
    }
   ],
   "source": [
    "print(input_x)\n",
    "print(y)"
   ]
  },
  {
   "cell_type": "code",
   "execution_count": null,
   "id": "e0705de5",
   "metadata": {},
   "outputs": [],
   "source": [
    "epoch = 50\n",
    "\n",
    "for e in range(epoch):\n",
    "    ## clearing the gradient\n",
    "    optimizer.zero_grad()\n",
    "    output = model_function(x)\n",
    "    loss = criterion(output, y) ## checking the loss\n",
    "\n",
    "    loss.backward() ## for backpropagation to calculate the gradient\n",
    "\n",
    "    "
   ]
  }
 ],
 "metadata": {
  "kernelspec": {
   "display_name": "CV-env",
   "language": "python",
   "name": "python3"
  },
  "language_info": {
   "codemirror_mode": {
    "name": "ipython",
    "version": 3
   },
   "file_extension": ".py",
   "mimetype": "text/x-python",
   "name": "python",
   "nbconvert_exporter": "python",
   "pygments_lexer": "ipython3",
   "version": "3.10.16"
  }
 },
 "nbformat": 4,
 "nbformat_minor": 5
}
