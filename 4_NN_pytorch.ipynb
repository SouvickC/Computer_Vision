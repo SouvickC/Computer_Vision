{
 "cells": [
  {
   "cell_type": "code",
   "execution_count": 3,
   "id": "fa3a2d0f",
   "metadata": {},
   "outputs": [],
   "source": [
    "'''\n",
    "Breakdown of simple NN\n",
    "x---. input\n",
    "W----> weights\n",
    "B---> bias\n",
    "A----> activation function\n",
    "Y----> output \n",
    "\n",
    "## forward pass\n",
    "## Loss function\n",
    "## update the gradients ----> backpropagation\n",
    "##  Optimizer\n",
    "\n",
    "'''\n",
    "\n",
    "import torch\n",
    "import torch.nn as nn\n",
    "import torch.optim as optim"
   ]
  },
  {
   "cell_type": "markdown",
   "id": "6c1ca09b",
   "metadata": {},
   "source": [
    "### Componenents for pytorch\n",
    "- base class for defining custom model : torch.nn.Module\n",
    "- FCN Dense : torch.nn.Linear\n",
    "- activation function : torch.nn.ReLU\n",
    "- optimizer : torch.optim\n",
    "- loss function : torch.nn.CrossEntropyLoss\n",
    "- Load data in batches : torch.utils.data.Dataloader\n",
    "\n",
    "### Diff ways to create NN\n",
    "- function : flexible way to do , little harder to interpret\n",
    "- sequential : nn.Sequential\n",
    "\n",
    "### Building a NN"
   ]
  },
  {
   "cell_type": "code",
   "execution_count": null,
   "id": "643bbbac",
   "metadata": {},
   "outputs": [],
   "source": [
    "## Functional API\n",
    "\n",
    "class SimpleNN(nn.Module): \n",
    "    def __init"
   ]
  },
  {
   "cell_type": "code",
   "execution_count": null,
   "id": "cc036ff6",
   "metadata": {},
   "outputs": [],
   "source": []
  },
  {
   "cell_type": "code",
   "execution_count": null,
   "id": "a9860abc",
   "metadata": {},
   "outputs": [],
   "source": []
  },
  {
   "cell_type": "code",
   "execution_count": null,
   "id": "50e6ef96",
   "metadata": {},
   "outputs": [],
   "source": []
  },
  {
   "cell_type": "code",
   "execution_count": null,
   "id": "4d049fe3",
   "metadata": {},
   "outputs": [],
   "source": []
  },
  {
   "cell_type": "code",
   "execution_count": null,
   "id": "b8f57e59",
   "metadata": {},
   "outputs": [],
   "source": []
  },
  {
   "cell_type": "code",
   "execution_count": null,
   "id": "e0705de5",
   "metadata": {},
   "outputs": [],
   "source": []
  }
 ],
 "metadata": {
  "kernelspec": {
   "display_name": "CV-env",
   "language": "python",
   "name": "python3"
  },
  "language_info": {
   "codemirror_mode": {
    "name": "ipython",
    "version": 3
   },
   "file_extension": ".py",
   "mimetype": "text/x-python",
   "name": "python",
   "nbconvert_exporter": "python",
   "pygments_lexer": "ipython3",
   "version": "3.10.16"
  }
 },
 "nbformat": 4,
 "nbformat_minor": 5
}
