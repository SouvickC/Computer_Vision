{
 "cells": [
  {
   "cell_type": "markdown",
   "id": "e652a017",
   "metadata": {},
   "source": [
    "### Pytorch introduction\n",
    "\n"
   ]
  },
  {
   "cell_type": "code",
   "execution_count": 8,
   "id": "233b7742",
   "metadata": {},
   "outputs": [],
   "source": [
    "# pip3 install torch torchvision torchaudio"
   ]
  },
  {
   "cell_type": "code",
   "execution_count": 9,
   "metadata": {},
   "outputs": [],
   "source": [
    "import torch"
   ]
  },
  {
   "cell_type": "code",
   "execution_count": 10,
   "metadata": {},
   "outputs": [
    {
     "name": "stdout",
     "output_type": "stream",
     "text": [
      "False\n"
     ]
    }
   ],
   "source": [
    "## check cuda\n",
    "print(torch.cuda.is_available())"
   ]
  },
  {
   "cell_type": "markdown",
   "id": "1103ce9a",
   "metadata": {},
   "source": [
    "### Tensors\n",
    "\n",
    "multidimensional array, with capabilities with gpu operations"
   ]
  },
  {
   "cell_type": "code",
   "execution_count": null,
   "id": "d9bd19bf",
   "metadata": {},
   "outputs": [
    {
     "name": "stdout",
     "output_type": "stream",
     "text": [
      "scaler Tensor is : tensor(24)\n",
      "scaler Tensor Dimension : 0\n",
      "scaler Tensor shape : torch.Size([])\n"
     ]
    }
   ],
   "source": [
    "## 1 scaler Tensor zero dimension\n",
    "\n",
    "a=2\n",
    "scaler =torch.tensor(24) \n",
    "print(\"scaler Tensor is :\", scaler)\n",
    "print(\"scaler Tensor Dimension :\", scaler.ndim)\n",
    "print(\"scaler Tensor shape :\", scaler.shape) ## empty"
   ]
  },
  {
   "cell_type": "code",
   "execution_count": 18,
   "id": "a7f1b89a",
   "metadata": {},
   "outputs": [
    {
     "name": "stdout",
     "output_type": "stream",
     "text": [
      "Vector Tensor is : tensor([12,  3,  4])\n",
      "Vector Tensor Dimension : 1\n",
      "Vector Tensor Shape: torch.Size([3])\n"
     ]
    }
   ],
   "source": [
    "## 1D tensor : Vector\n",
    "\n",
    "vector =torch.tensor([12,3,4])\n",
    "print(\"Vector Tensor is :\", vector)\n",
    "print(\"Vector Tensor Dimension :\", vector.ndim)\n",
    "print(\"Vector Tensor Shape:\", vector.shape) ## shape of the matrix or vector in the []"
   ]
  },
  {
   "cell_type": "code",
   "execution_count": null,
   "id": "9f13ad12",
   "metadata": {},
   "outputs": [
    {
     "name": "stdout",
     "output_type": "stream",
     "text": [
      "matrix Tensor is : tensor([[ 12,   3,   4],\n",
      "        [ 12, 345,   6]])\n",
      "matrix Tensor Dimension : 2\n",
      "matrix Tensor Shape: torch.Size([2, 3])\n"
     ]
    }
   ],
   "source": [
    "## 2D tensor : Vector\n",
    "\n",
    "matrix =torch.tensor(\n",
    "    [\n",
    "    [12,3,4], \n",
    "    [12,345,6]\n",
    "    ]\n",
    "    ) ## doing it for better understanding\n",
    "print(\"matrix Tensor is :\", matrix)\n",
    "print(\"matrix Tensor Dimension :\", matrix.ndim) ## 2 1d vector inside the [] bracket\n",
    "print(\"matrix Tensor Shape:\", matrix.shape) ## shape of the matrix or vector in the []"
   ]
  },
  {
   "cell_type": "code",
   "execution_count": null,
   "id": "a9ea7c90",
   "metadata": {},
   "outputs": [
    {
     "name": "stdout",
     "output_type": "stream",
     "text": [
      "matrix Tensor is : tensor([[[ 12,   3,   4],\n",
      "         [ 12, 345,   6]],\n",
      "\n",
      "        [[ 12,   3,   4],\n",
      "         [ 12, 345,   6]]])\n",
      "matrix Tensor Dimension : 3\n",
      "matrix Tensor Shape: torch.Size([2, 2, 3])\n"
     ]
    }
   ],
   "source": [
    "## 3D tensor \n",
    "\n",
    "matrix =torch.tensor(\n",
    "    [\n",
    "    [\n",
    "    [12,3,4], \n",
    "    [12,345,6],\n",
    "    ],\n",
    "    [\n",
    "    [12,3,4], \n",
    "    [12,345,6],\n",
    "    ]\n",
    "    ]\n",
    "    ) ## doing it for better understanding\n",
    "print(\"matrix Tensor is :\", matrix)\n",
    "print(\"matrix Tensor Dimension :\", matrix.ndim) ## 2 1d vector inside the [] bracket\n",
    "print(\"matrix Tensor Shape:\", matrix.shape) ## shape of the matrix or vector in the [] \n",
    "## output [2,2,2] we have two 2,2x2 matrix "
   ]
  },
  {
   "cell_type": "code",
   "execution_count": 71,
   "id": "f8ee9e05",
   "metadata": {},
   "outputs": [
    {
     "name": "stdout",
     "output_type": "stream",
     "text": [
      "cuda is not available\n"
     ]
    }
   ],
   "source": [
    "## GPU accleration\n",
    "\n",
    "if torch.cuda.is_available():\n",
    "    gpu_tensor =vector.to('cuda')\n",
    "    print(gpu_tensor)\n",
    "else:\n",
    "    print('cuda is not available')"
   ]
  }
 ],
 "metadata": {
  "kernelspec": {
   "display_name": "CV-env",
   "language": "python",
   "name": "python3"
  },
  "language_info": {
   "codemirror_mode": {
    "name": "ipython",
    "version": 3
   },
   "file_extension": ".py",
   "mimetype": "text/x-python",
   "name": "python",
   "nbconvert_exporter": "python",
   "pygments_lexer": "ipython3",
   "version": "3.10.16"
  }
 },
 "nbformat": 4,
 "nbformat_minor": 5
}
