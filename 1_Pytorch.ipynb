{
 "cells": [
  {
   "cell_type": "markdown",
   "id": "e652a017",
   "metadata": {},
   "source": [
    "### Pytorch introduction\n",
    "\n"
   ]
  },
  {
   "cell_type": "code",
   "execution_count": 150,
   "id": "233b7742",
   "metadata": {},
   "outputs": [],
   "source": [
    "# pip3 install torch torchvision torchaudio"
   ]
  },
  {
   "cell_type": "code",
   "execution_count": 151,
   "metadata": {},
   "outputs": [],
   "source": [
    "import torch"
   ]
  },
  {
   "cell_type": "code",
   "execution_count": 152,
   "metadata": {},
   "outputs": [
    {
     "name": "stdout",
     "output_type": "stream",
     "text": [
      "False\n"
     ]
    }
   ],
   "source": [
    "## check cuda\n",
    "print(torch.cuda.is_available())"
   ]
  },
  {
   "cell_type": "markdown",
   "id": "1103ce9a",
   "metadata": {},
   "source": [
    "### Tensors\n",
    "\n",
    "multidimensional array, with capabilities with gpu operations"
   ]
  },
  {
   "cell_type": "code",
   "execution_count": 153,
   "id": "d9bd19bf",
   "metadata": {},
   "outputs": [
    {
     "name": "stdout",
     "output_type": "stream",
     "text": [
      "scaler Tensor is : tensor(24)\n",
      "scaler Tensor Dimension : 0\n",
      "scaler Tensor shape : torch.Size([])\n"
     ]
    }
   ],
   "source": [
    "## 1 scaler Tensor zero dimension\n",
    "\n",
    "a=2\n",
    "scaler =torch.tensor(24) \n",
    "print(\"scaler Tensor is :\", scaler)\n",
    "print(\"scaler Tensor Dimension :\", scaler.ndim)\n",
    "print(\"scaler Tensor shape :\", scaler.shape) ## empty"
   ]
  },
  {
   "cell_type": "code",
   "execution_count": 154,
   "id": "a7f1b89a",
   "metadata": {},
   "outputs": [
    {
     "name": "stdout",
     "output_type": "stream",
     "text": [
      "Vector Tensor is : tensor([12,  3,  4])\n",
      "Vector Tensor Dimension : 1\n",
      "Vector Tensor Shape: torch.Size([3])\n"
     ]
    }
   ],
   "source": [
    "## 1D tensor : Vector\n",
    "\n",
    "vector =torch.tensor([12,3,4])\n",
    "print(\"Vector Tensor is :\", vector)\n",
    "print(\"Vector Tensor Dimension :\", vector.ndim)\n",
    "print(\"Vector Tensor Shape:\", vector.shape) ## shape of the matrix or vector in the []"
   ]
  },
  {
   "cell_type": "code",
   "execution_count": 155,
   "id": "9f13ad12",
   "metadata": {},
   "outputs": [
    {
     "name": "stdout",
     "output_type": "stream",
     "text": [
      "matrix Tensor is : tensor([[ 12.,   3.,   4.],\n",
      "        [ 12., 345.,   6.]])\n",
      "matrix Tensor Dimension : 2\n",
      "matrix Tensor Shape: torch.Size([2, 3])\n"
     ]
    }
   ],
   "source": [
    "## 2D tensor : Vector\n",
    "\n",
    "matrix2d =torch.tensor(\n",
    "    [\n",
    "    [12.,3,4], \n",
    "    [12,345.,6]\n",
    "    ]\n",
    "    ) ## doing it for better understanding\n",
    "print(\"matrix Tensor is :\", matrix2d)\n",
    "print(\"matrix Tensor Dimension :\", matrix2d.ndim) ## 2 1d vector inside the [] bracket\n",
    "print(\"matrix Tensor Shape:\", matrix2d.shape) ## shape of the matrix or vector in the []"
   ]
  },
  {
   "cell_type": "code",
   "execution_count": null,
   "id": "a9ea7c90",
   "metadata": {},
   "outputs": [
    {
     "name": "stdout",
     "output_type": "stream",
     "text": [
      "matrix Tensor is : tensor([[[ 12,   3,   4],\n",
      "         [ 12, 345,   6]],\n",
      "\n",
      "        [[ 12,   3,   4],\n",
      "         [ 12, 345,   6]]])\n",
      "matrix Tensor Dimension : 3\n",
      "matrix Tensor Shape: torch.Size([2, 2, 3])\n"
     ]
    }
   ],
   "source": [
    "## 3D tensor \n",
    "\n",
    "matrix =torch.tensor(\n",
    "    [\n",
    "    [\n",
    "    [12,3,4], \n",
    "    [12,345,6],\n",
    "    ],\n",
    "    [\n",
    "    [12,3,4], \n",
    "    [12,345,6],\n",
    "    ]\n",
    "    ]\n",
    "    ) ## doing it for better understanding\n",
    "print(\"matrix Tensor is :\", matrix  )\n",
    "print(\"matrix Tensor Dimension :\", matrix.ndim)             ## 2 1d vector inside the [] bracket\n",
    "print(\"matrix Tensor Shape:\", matrix.shape)                 ## shape of the matrix or vector in the [] \n",
    "                                                            ## output [2,2,2] we have two 2,2x2 matrix "
   ]
  },
  {
   "cell_type": "code",
   "execution_count": 157,
   "id": "f8ee9e05",
   "metadata": {},
   "outputs": [
    {
     "name": "stdout",
     "output_type": "stream",
     "text": [
      "cuda is not available\n"
     ]
    }
   ],
   "source": [
    "## GPU accleration\n",
    "\n",
    "if torch.cuda.is_available():\n",
    "    gpu_tensor =vector.to('cuda')\n",
    "    print(gpu_tensor)\n",
    "else:\n",
    "    print('cuda is not available')\n",
    "\n"
   ]
  },
  {
   "cell_type": "code",
   "execution_count": 158,
   "id": "055af75c",
   "metadata": {},
   "outputs": [
    {
     "name": "stdout",
     "output_type": "stream",
     "text": [
      "data type of matrix torch.int64\n",
      "Device of tensor cpu\n",
      "is tensor on GPU: True\n",
      "size torch.Size([2, 2, 3])\n",
      "num of element 12\n"
     ]
    }
   ],
   "source": [
    "## Tensor Properties\n",
    "\n",
    "print(\"data type of matrix\", matrix.dtype)\n",
    "\n",
    "print(\"Device of tensor\", matrix.device)\n",
    "# print(\"Device of tensor\", gpu_tensor.device) ## cuda is not available\n",
    "\n",
    "print(\"is tensor on GPU:\", matrix.is_cpu) ## is_cuda\n",
    "\n",
    "print(\"size\", matrix.size())\n",
    "\n",
    "print(\"num of element\", matrix.numel())"
   ]
  },
  {
   "cell_type": "code",
   "execution_count": 159,
   "id": "7bf183c0",
   "metadata": {},
   "outputs": [
    {
     "name": "stdout",
     "output_type": "stream",
     "text": [
      "dimension : 2\n",
      "torch.Size([3, 3])\n",
      "tensor([[10, 20, 30],\n",
      "        [40, 50, 60],\n",
      "        [70, 80, 90]])\n",
      "tensor(10)\n"
     ]
    }
   ],
   "source": [
    "## Accessing elements in a tensor\n",
    "\n",
    "'''\n",
    "tensor[row, column]\n",
    "'''\n",
    "\n",
    "te=torch.tensor([[10,20,30],[40,50,60],[70,80,90]])\n",
    "print(\"dimension :\", te.ndim)\n",
    "print(te.shape)\n",
    "print(te)\n",
    "print(te[0,0])"
   ]
  },
  {
   "cell_type": "code",
   "execution_count": 160,
   "id": "527e083b",
   "metadata": {},
   "outputs": [
    {
     "name": "stdout",
     "output_type": "stream",
     "text": [
      "zeroth row tensor([10, 20, 30])\n",
      "2nd row tensor([70, 80, 90])\n",
      "zeroth column tensor([10, 40, 70])\n",
      "last column tensor([30, 60, 90])\n",
      "\n",
      "till the last column and all the rows:\n",
      " tensor([[10, 20],\n",
      "        [40, 50],\n",
      "        [70, 80]])\n",
      "\n",
      " all column and all the rows:\n",
      " tensor([[10, 20, 30],\n",
      "        [40, 50, 60],\n",
      "        [70, 80, 90]])\n"
     ]
    }
   ],
   "source": [
    "print(\"zeroth row\" ,te[0]) ## zeroth row\n",
    "print(\"2nd row\",te[2]) ## the 2nd row \n",
    "\n",
    "print(\"zeroth column\",te[:,0])\n",
    "\n",
    "print(\"last column\",te[:,-1]) ## last column\n",
    "\n",
    "print(\"\\ntill the last column and all the rows:\\n\",te[:,:-1]) ## till the last column and all the rows\n",
    "\n",
    "print(\"\\n all column and all the rows:\\n\",te[:,:])"
   ]
  },
  {
   "cell_type": "markdown",
   "id": "a56dd35b",
   "metadata": {},
   "source": [
    "## Slicing\n"
   ]
  },
  {
   "cell_type": "code",
   "execution_count": 161,
   "id": "8f202eb8",
   "metadata": {},
   "outputs": [
    {
     "name": "stdout",
     "output_type": "stream",
     "text": [
      "first two rows :\n",
      "  tensor([[10, 20, 30],\n",
      "        [40, 50, 60]])\n"
     ]
    }
   ],
   "source": [
    "print(\"first two rows :\\n \", te[:2,:])"
   ]
  },
  {
   "cell_type": "code",
   "execution_count": 162,
   "id": "f7bcd46c",
   "metadata": {},
   "outputs": [
    {
     "name": "stdout",
     "output_type": "stream",
     "text": [
      "first two columns :\n",
      "  tensor([[10, 20],\n",
      "        [40, 50],\n",
      "        [70, 80]])\n",
      "tensor([[10, 20, 30],\n",
      "        [40, 50, 60],\n",
      "        [70, 80, 90]])\n"
     ]
    }
   ],
   "source": [
    "print(\"first two columns :\\n \", te[:,:2])\n",
    "print(te[:,:])   ## whole tensor"
   ]
  },
  {
   "cell_type": "code",
   "execution_count": 163,
   "id": "c9b3cf5d",
   "metadata": {},
   "outputs": [
    {
     "name": "stdout",
     "output_type": "stream",
     "text": [
      "tensor([[False, False, False],\n",
      "        [False, False, False],\n",
      "        [ True,  True,  True]])\n",
      "tensor([70, 80, 90])\n"
     ]
    }
   ],
   "source": [
    "mask =te> 67\n",
    "\n",
    "print(mask)\n",
    "\n",
    "print(te[mask]) ## mask selected element got output"
   ]
  },
  {
   "cell_type": "code",
   "execution_count": 164,
   "id": "2407fd5a",
   "metadata": {},
   "outputs": [
    {
     "name": "stdout",
     "output_type": "stream",
     "text": [
      "tensor([[10, 20, 30],\n",
      "        [40, 50, 60],\n",
      "        [70, 80, 90]])\n",
      "tensor([[10, 25, 30],\n",
      "        [40, 50, 60],\n",
      "        [70, 80, 90]])\n"
     ]
    }
   ],
   "source": [
    "## changing tensor values via indexing\n",
    "print(te)\n",
    "te[0,1] =25\n",
    "print(te)"
   ]
  },
  {
   "cell_type": "code",
   "execution_count": 165,
   "id": "883d04a9",
   "metadata": {},
   "outputs": [
    {
     "name": "stdout",
     "output_type": "stream",
     "text": [
      "tensor([[10, 30],\n",
      "        [40, 60],\n",
      "        [70, 90]])\n"
     ]
    }
   ],
   "source": [
    "indices = torch.tensor([0,2])\n",
    "selected_column = torch.index_select(te, dim=1, index=indices)\n",
    "print(selected_column)"
   ]
  },
  {
   "cell_type": "code",
   "execution_count": 166,
   "id": "50299da2",
   "metadata": {},
   "outputs": [
    {
     "name": "stdout",
     "output_type": "stream",
     "text": [
      "tensor([[10, 30],\n",
      "        [40, 60],\n",
      "        [70, 90]])\n"
     ]
    }
   ],
   "source": [
    "## using tnesor with steps\n",
    " ## step of two for column\n",
    "print(te[:,::2])"
   ]
  },
  {
   "cell_type": "code",
   "execution_count": 172,
   "id": "712cb2e0",
   "metadata": {},
   "outputs": [
    {
     "name": "stdout",
     "output_type": "stream",
     "text": [
      "tensor([[70, 80, 90],\n",
      "        [40, 50, 60],\n",
      "        [10, 25, 30]])\n"
     ]
    }
   ],
   "source": [
    "print(torch.flip(te, dims=(0,)))  ## flip based on row =0 column=1 "
   ]
  },
  {
   "cell_type": "code",
   "execution_count": null,
   "id": "af0f4e8a",
   "metadata": {},
   "outputs": [],
   "source": []
  },
  {
   "cell_type": "code",
   "execution_count": null,
   "id": "14264879",
   "metadata": {},
   "outputs": [],
   "source": []
  },
  {
   "cell_type": "code",
   "execution_count": null,
   "id": "9be31bbf",
   "metadata": {},
   "outputs": [],
   "source": []
  },
  {
   "cell_type": "code",
   "execution_count": null,
   "id": "9b024554",
   "metadata": {},
   "outputs": [],
   "source": []
  },
  {
   "cell_type": "code",
   "execution_count": null,
   "id": "3c9308c0",
   "metadata": {},
   "outputs": [],
   "source": []
  },
  {
   "cell_type": "code",
   "execution_count": null,
   "id": "4f2b10ac",
   "metadata": {},
   "outputs": [],
   "source": []
  },
  {
   "cell_type": "code",
   "execution_count": null,
   "id": "e1154dee",
   "metadata": {},
   "outputs": [],
   "source": []
  },
  {
   "cell_type": "code",
   "execution_count": null,
   "id": "18ec43db",
   "metadata": {},
   "outputs": [],
   "source": []
  },
  {
   "cell_type": "code",
   "execution_count": null,
   "id": "5e473bf3",
   "metadata": {},
   "outputs": [],
   "source": []
  },
  {
   "cell_type": "code",
   "execution_count": null,
   "id": "d5bf8a3b",
   "metadata": {},
   "outputs": [],
   "source": []
  },
  {
   "cell_type": "code",
   "execution_count": null,
   "id": "508bae3c",
   "metadata": {},
   "outputs": [],
   "source": []
  }
 ],
 "metadata": {
  "kernelspec": {
   "display_name": "CV-env",
   "language": "python",
   "name": "python3"
  },
  "language_info": {
   "codemirror_mode": {
    "name": "ipython",
    "version": 3
   },
   "file_extension": ".py",
   "mimetype": "text/x-python",
   "name": "python",
   "nbconvert_exporter": "python",
   "pygments_lexer": "ipython3",
   "version": "3.10.16"
  }
 },
 "nbformat": 4,
 "nbformat_minor": 5
}
